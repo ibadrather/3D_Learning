{
 "cells": [
  {
   "cell_type": "markdown",
   "metadata": {},
   "source": [
    "### Point cloud\n",
    "\n",
    "This tutorial demonstrates basic usage of a point cloud."
   ]
  },
  {
   "cell_type": "code",
   "execution_count": 1,
   "metadata": {},
   "outputs": [
    {
     "name": "stdout",
     "output_type": "stream",
     "text": [
      "Jupyter environment detected. Enabling Open3D WebVisualizer.\n",
      "[Open3D INFO] WebRTC GUI backend enabled.\n",
      "[Open3D INFO] WebRTCWindowSystem: HTTP handshake server disabled.\n"
     ]
    }
   ],
   "source": [
    "import open3d as o3d"
   ]
  },
  {
   "cell_type": "markdown",
   "metadata": {},
   "source": [
    "## 1. Visualize point cloud\n",
    "\n",
    "The first part of the tutorial reads a point cloud and visualizes it."
   ]
  },
  {
   "cell_type": "code",
   "execution_count": 4,
   "metadata": {},
   "outputs": [
    {
     "name": "stdout",
     "output_type": "stream",
     "text": [
      "Load a ply point cloud, print it, and render it\n"
     ]
    },
    {
     "ename": "AttributeError",
     "evalue": "module 'open3d' has no attribute 'dataset'",
     "output_type": "error",
     "traceback": [
      "\u001b[0;31m---------------------------------------------------------------------------\u001b[0m",
      "\u001b[0;31mAttributeError\u001b[0m                            Traceback (most recent call last)",
      "\u001b[1;32m/home/khalid/Desktop/3D_Learning/1_Geometry/1_point_cloud_basics.ipynb Cell 4\u001b[0m in \u001b[0;36m<cell line: 3>\u001b[0;34m()\u001b[0m\n\u001b[1;32m      <a href='vscode-notebook-cell:/home/khalid/Desktop/3D_Learning/1_Geometry/1_point_cloud_basics.ipynb#ch0000006?line=0'>1</a>\u001b[0m \u001b[39mprint\u001b[39m(\u001b[39m\"\u001b[39m\u001b[39mLoad a ply point cloud, print it, and render it\u001b[39m\u001b[39m\"\u001b[39m)\n\u001b[0;32m----> <a href='vscode-notebook-cell:/home/khalid/Desktop/3D_Learning/1_Geometry/1_point_cloud_basics.ipynb#ch0000006?line=2'>3</a>\u001b[0m ply_point_cloud \u001b[39m=\u001b[39m o3d\u001b[39m.\u001b[39;49mdataset\u001b[39m.\u001b[39mPLYPointCloud()\n\u001b[1;32m      <a href='vscode-notebook-cell:/home/khalid/Desktop/3D_Learning/1_Geometry/1_point_cloud_basics.ipynb#ch0000006?line=3'>4</a>\u001b[0m pcd \u001b[39m=\u001b[39m o3d\u001b[39m.\u001b[39mio\u001b[39m.\u001b[39mread_point_cloud(ply_point_cloud\u001b[39m.\u001b[39mpath)\n\u001b[1;32m      <a href='vscode-notebook-cell:/home/khalid/Desktop/3D_Learning/1_Geometry/1_point_cloud_basics.ipynb#ch0000006?line=4'>5</a>\u001b[0m \u001b[39mprint\u001b[39m(pcd)\n",
      "\u001b[0;31mAttributeError\u001b[0m: module 'open3d' has no attribute 'dataset'"
     ]
    }
   ],
   "source": [
    "print(\"Load a ply point cloud, print it, and render it\")\n",
    "\n",
    "ply_point_cloud = o3d.dataset.PLYPointCloud()\n",
    "pcd = o3d.io.read_point_cloud(ply_point_cloud.path)\n",
    "print(pcd)"
   ]
  },
  {
   "cell_type": "code",
   "execution_count": null,
   "metadata": {},
   "outputs": [],
   "source": []
  }
 ],
 "metadata": {
  "kernelspec": {
   "display_name": "Python 3.8.10 ('visiony')",
   "language": "python",
   "name": "python3"
  },
  "language_info": {
   "codemirror_mode": {
    "name": "ipython",
    "version": 3
   },
   "file_extension": ".py",
   "mimetype": "text/x-python",
   "name": "python",
   "nbconvert_exporter": "python",
   "pygments_lexer": "ipython3",
   "version": "3.8.10"
  },
  "orig_nbformat": 4,
  "vscode": {
   "interpreter": {
    "hash": "b7433579acf8a1bb94bf60358ca6eb2a820a15a09bbeb7fda50d057856ece448"
   }
  }
 },
 "nbformat": 4,
 "nbformat_minor": 2
}
